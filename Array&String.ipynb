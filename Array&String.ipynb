{
 "cells": [
  {
   "cell_type": "markdown",
   "metadata": {},
   "source": [
    "# Find Pivot Index\n",
    "We define the pivot index as the index where the sum of all the numbers to the left of the index is equal to the sum of all the numbers to the right of the index.\n",
    "If no such index exists, we should return -1. If there are multiple pivot indexes, you should return the left-most pivot index."
   ]
  },
  {
   "cell_type": "code",
   "execution_count": 48,
   "metadata": {},
   "outputs": [],
   "source": [
    "class Solution(object): \n",
    "    def pivotIndex(self,nums):\n",
    "        \"\"\"\n",
    "        :type nums: List[int]\n",
    "        :rtype: int\n",
    "        \"\"\"\n",
    "        left = 0\n",
    "        right = sum(nums)\n",
    "        length = len(nums)\n",
    "        for i in range(length):\n",
    "            right = right - nums[i]\n",
    "            if left == right:\n",
    "                return i\n",
    "            left = left + nums[i]\n",
    "        return -1                               "
   ]
  },
  {
   "cell_type": "code",
   "execution_count": 49,
   "metadata": {},
   "outputs": [],
   "source": [
    "nums = [1,7,3,6,5,6]"
   ]
  },
  {
   "cell_type": "code",
   "execution_count": 50,
   "metadata": {},
   "outputs": [
    {
     "data": {
      "text/plain": [
       "3"
      ]
     },
     "execution_count": 50,
     "metadata": {},
     "output_type": "execute_result"
    }
   ],
   "source": [
    "ob1 = Solution()\n",
    "ob1.pivotIndex(nums)"
   ]
  },
  {
   "cell_type": "markdown",
   "metadata": {},
   "source": [
    "# Largest Number At Least Twice of Others\n",
    "In a given integer array nums, there is always exactly one largest element.\n",
    "Find whether the largest element in the array is at least twice as much as every other number in the array.\n",
    "If it is, return the index of the largest element, otherwise return -1."
   ]
  },
  {
   "cell_type": "code",
   "execution_count": 51,
   "metadata": {},
   "outputs": [],
   "source": [
    "class Solution(object):     \n",
    "    def dominantIndex(self,nums):\n",
    "        \"\"\"\n",
    "        :type nums: List[int]\n",
    "        :rtype: int\n",
    "        \"\"\"\n",
    "        if len(nums) == 1:\n",
    "            return 0\n",
    "        else:\n",
    "            maxv = max(nums)\n",
    "            maxi = nums.index(maxv)\n",
    "            nums.pop(maxi)\n",
    "            if len(nums) == 1:\n",
    "                maxv2 = nums[0]\n",
    "            else:\n",
    "                maxv2 = max(nums)\n",
    "            if maxv >= 2 * maxv2:\n",
    "                return maxi\n",
    "            else:\n",
    "                return -1"
   ]
  },
  {
   "cell_type": "code",
   "execution_count": 52,
   "metadata": {},
   "outputs": [],
   "source": [
    "nums = [0,0,0,1]"
   ]
  },
  {
   "cell_type": "code",
   "execution_count": 53,
   "metadata": {},
   "outputs": [
    {
     "data": {
      "text/plain": [
       "3"
      ]
     },
     "execution_count": 53,
     "metadata": {},
     "output_type": "execute_result"
    }
   ],
   "source": [
    "ob1 = Solution()\n",
    "ob1.dominantIndex(nums)"
   ]
  },
  {
   "cell_type": "code",
   "execution_count": 54,
   "metadata": {},
   "outputs": [
    {
     "data": {
      "text/plain": [
       "1"
      ]
     },
     "execution_count": 54,
     "metadata": {},
     "output_type": "execute_result"
    }
   ],
   "source": [
    "nums = [0,1]\n",
    "ob1.dominantIndex(nums)"
   ]
  },
  {
   "cell_type": "markdown",
   "metadata": {},
   "source": [
    "# Plus One\n",
    "Given a non-empty array of digits representing a non-negative integer, increment one to the integer.\n",
    "The digits are stored such that the most significant digit is at the head of the list, and each element in the array contains a single digit.\n",
    "You may assume the integer does not contain any leading zero, except the number 0 itself."
   ]
  },
  {
   "cell_type": "code",
   "execution_count": 59,
   "metadata": {},
   "outputs": [],
   "source": [
    "class Solution(object):     \n",
    "    def plusOne(self,digits):\n",
    "        \"\"\"\n",
    "        :type digits: List[int]\n",
    "        :rtype: List[int]\n",
    "        \"\"\"\n",
    "        value = 0\n",
    "        for i in range(len(digits)):\n",
    "            value = value + digits[i] * pow(10, len(digits)-1-i)\n",
    "        newvalue = value + 1\n",
    "        return list(map(int, str(newvalue)))"
   ]
  },
  {
   "cell_type": "code",
   "execution_count": 60,
   "metadata": {},
   "outputs": [],
   "source": [
    "digits = [1,2,3]"
   ]
  },
  {
   "cell_type": "code",
   "execution_count": 61,
   "metadata": {},
   "outputs": [
    {
     "data": {
      "text/plain": [
       "[1, 2, 4]"
      ]
     },
     "execution_count": 61,
     "metadata": {},
     "output_type": "execute_result"
    }
   ],
   "source": [
    "ob1=Solution()\n",
    "ob1.plusOne(digits)"
   ]
  },
  {
   "attachments": {},
   "cell_type": "markdown",
   "metadata": {},
   "source": [
    "# Diagonal Traverse\n",
    "Given a matrix of M x N elements (M rows, N columns), return all elements of the matrix in diagonal order as shown in the below image."
   ]
  },
  {
   "cell_type": "code",
   "execution_count": 62,
   "metadata": {},
   "outputs": [],
   "source": [
    "class Solution(object):     \n",
    "    def findDiagonalOrder(self,matrix):\n",
    "        \"\"\"\n",
    "        :type matrix: List[List[int]]\n",
    "        :rtype: List[int]\n",
    "        \"\"\"\n",
    "        # check for empty matrix\n",
    "        if len(matrix) <1:\n",
    "            return []\n",
    "        # create a dictionary to store the diagonal level and diagonal list.\n",
    "        d = {}\n",
    "        for i in range(len(matrix)):\n",
    "            for j in range(len(matrix[0])):\n",
    "                if i+j in d:\n",
    "                    d[i+j].append(matrix[i][j])\n",
    "                else:\n",
    "                    d[i+j] = [matrix[i][j]]\n",
    "        # create result array\n",
    "        result = []\n",
    "        for item in d.items():\n",
    "            # d{level0: [value1, value2,...], level1: [...],...}\n",
    "            if item[0] % 2 == 0:\n",
    "                # reverse list of an even numbered dignal \n",
    "                for m in item[1][::-1]:\n",
    "                    result.append(m)\n",
    "            else:\n",
    "                for n in item[1]:\n",
    "                    result.append(n)\n",
    "        return result\n",
    "    "
   ]
  },
  {
   "cell_type": "code",
   "execution_count": 63,
   "metadata": {},
   "outputs": [],
   "source": [
    "matrix = [[1,2,3],[4,5,6],[7,8,9]]"
   ]
  },
  {
   "cell_type": "code",
   "execution_count": 64,
   "metadata": {},
   "outputs": [
    {
     "data": {
      "text/plain": [
       "[1, 2, 4, 7, 5, 3, 6, 8, 9]"
      ]
     },
     "execution_count": 64,
     "metadata": {},
     "output_type": "execute_result"
    }
   ],
   "source": [
    "ob1 = Solution()\n",
    "findDiagonalOrder(matrix)"
   ]
  },
  {
   "cell_type": "markdown",
   "metadata": {},
   "source": [
    "# Spiral Matrix\n",
    "Given a matrix of m x n elements (m rows, n columns), return all elements of the matrix in spiral order."
   ]
  },
  {
   "cell_type": "code",
   "execution_count": 65,
   "metadata": {},
   "outputs": [],
   "source": [
    "class Solution(object):     \n",
    "    def spiralOrder(self,matrix):\n",
    "        \"\"\"\n",
    "        :type matrix: List[List[int]]\n",
    "        :rtype: List[int]\n",
    "        \"\"\"\n",
    "        #00-->0(n-1)   1(n-1)-->(m-1)(n-1)    (m-1)(n-2)-->(m-1)1   (m-1)0-->10\n",
    "        # generate the coordinates(up, left, bottom, right) for each iterate\n",
    "        def coordinates(ru, cl, rb, cr):\n",
    "            for col in range(cl, cr + 1):\n",
    "                yield ru, col\n",
    "            for row in range(ru + 1, rb + 1):\n",
    "                yield row, cr\n",
    "            if ru < rb and cl < cr:\n",
    "                for col in range(cr -1, cl, -1):\n",
    "                    yield rb, col\n",
    "                for row in range(rb, ru, -1):\n",
    "                    yield row, cl\n",
    "\n",
    "        # check for empty matrix\n",
    "        if len(matrix) <1:\n",
    "            return []\n",
    "        result = []\n",
    "        ru = 0\n",
    "        rb = len(matrix) - 1\n",
    "        cl = 0\n",
    "        cr = len(matrix[0]) - 1\n",
    "        while ru <= rb and cl <= cr:\n",
    "            for row, col in coordinates(ru, cl, rb, cr):\n",
    "                result.append(matrix[row][col])\n",
    "            ru = ru + 1\n",
    "            rb = rb - 1\n",
    "            cl = cl + 1\n",
    "            cr = cr - 1\n",
    "        return result"
   ]
  },
  {
   "cell_type": "code",
   "execution_count": 66,
   "metadata": {},
   "outputs": [],
   "source": [
    "matrix = [[1,2,3],[4,5,6],[7,8,9]]"
   ]
  },
  {
   "cell_type": "code",
   "execution_count": 67,
   "metadata": {},
   "outputs": [
    {
     "data": {
      "text/plain": [
       "[1, 2, 3, 6, 9, 8, 7, 4, 5]"
      ]
     },
     "execution_count": 67,
     "metadata": {},
     "output_type": "execute_result"
    }
   ],
   "source": [
    "ob1=Solution()\n",
    "ob1.spiralOrder(matrix)"
   ]
  },
  {
   "cell_type": "markdown",
   "metadata": {},
   "source": [
    " # Pascal's Triangle\n",
    " Given a non-negative integer numRows, generate the first numRows of Pascal's triangle."
   ]
  },
  {
   "cell_type": "code",
   "execution_count": 68,
   "metadata": {},
   "outputs": [],
   "source": [
    "class Solution(object):     \n",
    "    def generate(self,numRows):\n",
    "        \"\"\"\n",
    "        :type numRows: int\n",
    "        :rtype: List[List[int]]\n",
    "        \"\"\"\n",
    "        if numRows == 0:\n",
    "            return []\n",
    "        elif numRows == 1:\n",
    "            return [[1]]\n",
    "        triangle = [[1]]\n",
    "        for i in range(1, numRows):\n",
    "            row = [1]\n",
    "            for j in range(1,i):\n",
    "                row.append(triangle[i-1][j-1] + triangle[i-1][j])\n",
    "            row.append(1)\n",
    "            triangle.append(row)\n",
    "        return triangle  "
   ]
  },
  {
   "cell_type": "code",
   "execution_count": 69,
   "metadata": {},
   "outputs": [],
   "source": [
    "numRows = 5"
   ]
  },
  {
   "cell_type": "code",
   "execution_count": 70,
   "metadata": {},
   "outputs": [
    {
     "data": {
      "text/plain": [
       "[[1], [1, 1], [1, 2, 1], [1, 3, 3, 1], [1, 4, 6, 4, 1]]"
      ]
     },
     "execution_count": 70,
     "metadata": {},
     "output_type": "execute_result"
    }
   ],
   "source": [
    "ob1=Solution()\n",
    "ob1.generate(numRows)"
   ]
  },
  {
   "cell_type": "markdown",
   "metadata": {},
   "source": [
    "# Add Binary\n",
    "Given two binary strings, return their sum (also a binary string).\n",
    "\n",
    "The input strings are both non-empty and contains only characters 1 or 0."
   ]
  },
  {
   "cell_type": "code",
   "execution_count": 71,
   "metadata": {},
   "outputs": [],
   "source": [
    "#Convert binary to decimal int('10101',2)  decimal to binary  bin(13)\n",
    "#Convert hexadecimal to decimal int('0xf',16)\n",
    "#Convert octal to decimal('17',8)\n",
    "class Solution(object):     \n",
    "    def addBinary(self,a, b):\n",
    "        \"\"\"\n",
    "        :type a: str\n",
    "        :type b: str\n",
    "        :rtype: str\n",
    "        \"\"\"\n",
    "        sum = bin(int(a,2) + int(b,2))\n",
    "        return sum[2:]"
   ]
  },
  {
   "cell_type": "code",
   "execution_count": 72,
   "metadata": {},
   "outputs": [],
   "source": [
    "a = '11'"
   ]
  },
  {
   "cell_type": "code",
   "execution_count": 73,
   "metadata": {},
   "outputs": [],
   "source": [
    "b = '1'"
   ]
  },
  {
   "cell_type": "code",
   "execution_count": 74,
   "metadata": {},
   "outputs": [
    {
     "data": {
      "text/plain": [
       "'100'"
      ]
     },
     "execution_count": 74,
     "metadata": {},
     "output_type": "execute_result"
    }
   ],
   "source": [
    "ob1=Solution()\n",
    "ob1.addBinary(a, b)"
   ]
  },
  {
   "cell_type": "markdown",
   "metadata": {},
   "source": [
    "# Implement strStr()\n",
    "Return the index of the first occurrence of needle in haystack, or -1 if needle is not part of haystack."
   ]
  },
  {
   "cell_type": "code",
   "execution_count": 100,
   "metadata": {},
   "outputs": [],
   "source": [
    "class Solution(object):\n",
    "    def strStr(self, haystack, needle):\n",
    "        \"\"\"\n",
    "        :type haystack: str\n",
    "        :type needle: str\n",
    "        :rtype: int\n",
    "        \"\"\"\n",
    "        m = len(haystack)\n",
    "        n = len(needle)\n",
    "        if n == 0:\n",
    "            return 0\n",
    "        for i in range(m-n+1):\n",
    "            if haystack[i: i+n] == needle:\n",
    "                return i \n",
    "        return -1"
   ]
  },
  {
   "cell_type": "code",
   "execution_count": 96,
   "metadata": {},
   "outputs": [],
   "source": [
    "class Solution2(object):\n",
    "    def strStr(self, haystack, needle):\n",
    "        \"\"\"\n",
    "        :type haystack: str\n",
    "        :type needle: str\n",
    "        :rtype: int\n",
    "        \"\"\"\n",
    "        i = 0\n",
    "        j = 0\n",
    "        m = len(needle)\n",
    "        n = len(haystack)\n",
    "        if m ==0:\n",
    "            return 0\n",
    "        while i<n and n-i+1>=m:\n",
    "            if haystack[i] == needle[j]:\n",
    "                temp = i\n",
    "                while j<m and i<n and needle[j]==haystack[i]:\n",
    "                    i+=1\n",
    "                    j+=1\n",
    "                if j == m:\n",
    "                    return temp\n",
    "                i= temp+1\n",
    "                j = 0\n",
    "            else:\n",
    "                i+=1\n",
    "        return -1"
   ]
  },
  {
   "cell_type": "code",
   "execution_count": 101,
   "metadata": {},
   "outputs": [],
   "source": [
    "haystack = \"mississippi\"\n",
    "needle = \"sipp\""
   ]
  },
  {
   "cell_type": "code",
   "execution_count": 102,
   "metadata": {},
   "outputs": [
    {
     "data": {
      "text/plain": [
       "6"
      ]
     },
     "execution_count": 102,
     "metadata": {},
     "output_type": "execute_result"
    }
   ],
   "source": [
    "ob1=Solution()\n",
    "ob1.strStr(haystack, needle)"
   ]
  },
  {
   "cell_type": "markdown",
   "metadata": {},
   "source": [
    "# Longest Common Prefix\n",
    "Write a function to find the longest common prefix string amongst an array of strings.\n",
    "\n",
    "If there is no common prefix, return an empty string \"\"."
   ]
  },
  {
   "cell_type": "code",
   "execution_count": 114,
   "metadata": {},
   "outputs": [],
   "source": [
    "#zip(*p) passes all the items inside the p as arguments to zip function    \n",
    "class Solution(object):\n",
    "    def longestCommonPrefix(self, strs):\n",
    "        \"\"\"\n",
    "        :type strs: List[str]\n",
    "        :rtype: str\n",
    "        \"\"\"\n",
    "        prefix=[]\n",
    "        if len(strs) < 2:\n",
    "            return \"\"\n",
    "        for x in zip(*strs):\n",
    "            if len(set(x)) == 1:\n",
    "                prefix.append(x[0])\n",
    "            else:\n",
    "                break\n",
    "        return \"\".join(prefix)"
   ]
  },
  {
   "cell_type": "code",
   "execution_count": 115,
   "metadata": {},
   "outputs": [],
   "source": [
    "strs = [\"flower\",\"flow\",\"flight\"]"
   ]
  },
  {
   "cell_type": "code",
   "execution_count": 112,
   "metadata": {},
   "outputs": [
    {
     "name": "stdout",
     "output_type": "stream",
     "text": [
      "('f', 'f', 'f')\n",
      "{'f'}\n",
      "('l', 'l', 'l')\n",
      "{'l'}\n",
      "('o', 'o', 'i')\n",
      "{'i', 'o'}\n",
      "('w', 'w', 'g')\n",
      "{'w', 'g'}\n"
     ]
    }
   ],
   "source": [
    "#for x in zip(*strs):\n",
    "#    print(x) \n",
    "#    print(set(x)) "
   ]
  },
  {
   "cell_type": "code",
   "execution_count": 117,
   "metadata": {},
   "outputs": [
    {
     "data": {
      "text/plain": [
       "'fl'"
      ]
     },
     "execution_count": 117,
     "metadata": {},
     "output_type": "execute_result"
    }
   ],
   "source": [
    "ob1= Solution()\n",
    "ob1.longestCommonPrefix(strs)"
   ]
  },
  {
   "cell_type": "markdown",
   "metadata": {},
   "source": [
    "# Reverse String\n",
    "Write a function that reverses a string. The input string is given as an array of characters char[].\n",
    "\n",
    "Do not allocate extra space for another array, you must do this by modifying the input array in-place with O(1) extra memory.\n",
    "\n",
    "You may assume all the characters consist of printable ascii characters."
   ]
  },
  {
   "cell_type": "code",
   "execution_count": 130,
   "metadata": {},
   "outputs": [],
   "source": [
    "class Solution(object):\n",
    "    def reverseString(self, s):\n",
    "        \"\"\"\n",
    "        :type s: List[str]\n",
    "        :rtype: None Do not return anything, modify s in-place instead.\n",
    "        \"\"\"\n",
    "        if len(s)<2:\n",
    "            return s\n",
    "        for i in range(len(s)//2): # '5//2' is '2'\n",
    "            j = len(s)-1-i\n",
    "            if i<j:\n",
    "                s[i], s[j] = s[j], s[i]\n",
    "        return s"
   ]
  },
  {
   "cell_type": "code",
   "execution_count": 131,
   "metadata": {},
   "outputs": [],
   "source": [
    "s = [\"h\",\"e\",\"l\",\"l\",\"o\"]"
   ]
  },
  {
   "cell_type": "code",
   "execution_count": 132,
   "metadata": {},
   "outputs": [
    {
     "data": {
      "text/plain": [
       "['o', 'l', 'l', 'e', 'h']"
      ]
     },
     "execution_count": 132,
     "metadata": {},
     "output_type": "execute_result"
    }
   ],
   "source": [
    "ob1= Solution()\n",
    "ob1.reverseString(s)"
   ]
  },
  {
   "cell_type": "markdown",
   "metadata": {},
   "source": [
    "# Array Partition I\n",
    "Given an array of 2n integers, your task is to group these integers into n pairs of integer, \n",
    "say (a1, b1), (a2, b2), ..., (an, bn) which makes sum of min(ai, bi) for all i from 1 to n as large as possible."
   ]
  },
  {
   "cell_type": "code",
   "execution_count": 137,
   "metadata": {},
   "outputs": [],
   "source": [
    "class Solution(object):\n",
    "    def arrayPairSum(self, nums):\n",
    "        \"\"\"\n",
    "        :type nums: List[int]\n",
    "        :rtype: int\n",
    "        \"\"\"\n",
    "        ans = 0\n",
    "        nums.sort()\n",
    "        for i in range(0, len(nums)-1, 2):\n",
    "            ans += nums[i]\n",
    "        return ans            "
   ]
  },
  {
   "cell_type": "code",
   "execution_count": 138,
   "metadata": {},
   "outputs": [],
   "source": [
    "s = [1,4,3,2]"
   ]
  },
  {
   "cell_type": "code",
   "execution_count": 139,
   "metadata": {},
   "outputs": [
    {
     "data": {
      "text/plain": [
       "4"
      ]
     },
     "execution_count": 139,
     "metadata": {},
     "output_type": "execute_result"
    }
   ],
   "source": [
    "ob1= Solution()\n",
    "ob1.arrayPairSum(s)"
   ]
  },
  {
   "cell_type": "markdown",
   "metadata": {},
   "source": [
    "# Two Sum II - Input array is sorted\n",
    "Given an array of integers that is already sorted in ascending order, find two numbers such that they add up to a specific target number.\n",
    "\n",
    "The function twoSum should return indices of the two numbers such that they add up to the target, where index1 must be less than index2.\n",
    "\n",
    "Note:\n",
    "\n",
    "Your returned answers (both index1 and index2) are not zero-based.\n",
    "You may assume that each input would have exactly one solution and you may not use the same element twice."
   ]
  },
  {
   "cell_type": "code",
   "execution_count": 140,
   "metadata": {},
   "outputs": [],
   "source": [
    "class Solution(object):\n",
    "    def twoSum(self, numbers, target):\n",
    "        \"\"\"\n",
    "        :type numbers: List[int]\n",
    "        :type target: int\n",
    "        :rtype: List[int]\n",
    "        \"\"\"\n",
    "        n = len(numbers)\n",
    "        l, r = 0, n-1\n",
    "        while l < r:\n",
    "            s = numbers[l] + numbers[r]    \n",
    "            if s < target:\n",
    "                l += 1\n",
    "            elif s == target:\n",
    "                return [l+1, r+1]\n",
    "            else:\n",
    "                r -= 1\n",
    "        return [0,0]"
   ]
  },
  {
   "cell_type": "code",
   "execution_count": 141,
   "metadata": {},
   "outputs": [],
   "source": [
    "numbers=[2,7,11,15]\n",
    "target=9"
   ]
  },
  {
   "cell_type": "code",
   "execution_count": 142,
   "metadata": {},
   "outputs": [
    {
     "data": {
      "text/plain": [
       "[1, 2]"
      ]
     },
     "execution_count": 142,
     "metadata": {},
     "output_type": "execute_result"
    }
   ],
   "source": [
    "ob1= Solution()\n",
    "ob1.twoSum(numbers, target)"
   ]
  },
  {
   "cell_type": "markdown",
   "metadata": {},
   "source": [
    "# Remove Element\n",
    "Given an array nums and a value val, remove all instances of that value in-place and return the new length.\n",
    "\n",
    "Do not allocate extra space for another array, you must do this by modifying the input array in-place with O(1) extra memory.\n",
    "\n",
    "The order of elements can be changed. It doesn't matter what you leave beyond the new length."
   ]
  },
  {
   "cell_type": "code",
   "execution_count": 146,
   "metadata": {},
   "outputs": [],
   "source": [
    "class Solution(object):\n",
    "    def removeElement(self, nums, val):\n",
    "        \"\"\"\n",
    "        :type nums: List[int]\n",
    "        :type val: int\n",
    "        :rtype: int\n",
    "        \"\"\"\n",
    "        l,r = 0, len(nums)-1\n",
    "        while l <= r:\n",
    "            if nums[l] == val:\n",
    "                nums[l] = nums[r]\n",
    "                r -= 1\n",
    "            else:\n",
    "                l += 1\n",
    "        return r+1\n",
    "                         "
   ]
  },
  {
   "cell_type": "code",
   "execution_count": 147,
   "metadata": {},
   "outputs": [],
   "source": [
    "nums = [1]\n",
    "val = 1"
   ]
  },
  {
   "cell_type": "code",
   "execution_count": 148,
   "metadata": {},
   "outputs": [
    {
     "data": {
      "text/plain": [
       "0"
      ]
     },
     "execution_count": 148,
     "metadata": {},
     "output_type": "execute_result"
    }
   ],
   "source": [
    "ob1= Solution()\n",
    "ob1.removeElement(nums, val)"
   ]
  },
  {
   "cell_type": "markdown",
   "metadata": {},
   "source": [
    "# Max Consecutive Ones\n",
    "Given a binary array, find the maximum number of consecutive 1s in this array."
   ]
  },
  {
   "cell_type": "code",
   "execution_count": 152,
   "metadata": {},
   "outputs": [],
   "source": [
    "class Solution(object):\n",
    "    def findMaxConsecutiveOnes(self, nums):\n",
    "        \"\"\"\n",
    "        :type nums: List[int]\n",
    "        :rtype: int\n",
    "        \"\"\"        \n",
    "        result = 0\n",
    "        count = 0\n",
    "        for num in nums:\n",
    "            if num == 0:\n",
    "                result = max(result, count)\n",
    "                count = 0\n",
    "            else:\n",
    "                count += 1\n",
    "        result = max(result, count)\n",
    "        return result"
   ]
  },
  {
   "cell_type": "code",
   "execution_count": 153,
   "metadata": {},
   "outputs": [],
   "source": [
    "nums=[1,1,0,1,1,1]"
   ]
  },
  {
   "cell_type": "code",
   "execution_count": 154,
   "metadata": {},
   "outputs": [
    {
     "data": {
      "text/plain": [
       "3"
      ]
     },
     "execution_count": 154,
     "metadata": {},
     "output_type": "execute_result"
    }
   ],
   "source": [
    "ob1= Solution()\n",
    "ob1.findMaxConsecutiveOnes(nums)"
   ]
  },
  {
   "cell_type": "markdown",
   "metadata": {},
   "source": [
    "# Minimum Size Subarray Sum\n",
    "Given an array of n positive integers and a positive integer s, find the minimal length of a contiguous subarray of \n",
    "which the sum ≥ s. If there isn't one, return 0 instead."
   ]
  },
  {
   "cell_type": "code",
   "execution_count": 167,
   "metadata": {},
   "outputs": [],
   "source": [
    "class Solution(object):\n",
    "    def minSubArrayLen(self, s, nums):\n",
    "        \"\"\"\n",
    "        :type s: int\n",
    "        :type nums: List[int]\n",
    "        :rtype: int\n",
    "        \"\"\"\n",
    "        if sum(nums) < s:\n",
    "            return 0\n",
    "        n = len(nums)\n",
    "        l,r = 0,0\n",
    "        subsum = 0\n",
    "        ans = n\n",
    "        while r < n:\n",
    "            subsum += nums[r]\n",
    "            while subsum >= s:\n",
    "                ans = min(ans, r-l+1)\n",
    "                subsum -= nums[l]\n",
    "                l += 1\n",
    "            r += 1\n",
    "        return ans    \n",
    "            "
   ]
  },
  {
   "cell_type": "code",
   "execution_count": 168,
   "metadata": {},
   "outputs": [],
   "source": [
    "s = 7\n",
    "nums = [2,3,1,2,4,3]"
   ]
  },
  {
   "cell_type": "code",
   "execution_count": 169,
   "metadata": {},
   "outputs": [
    {
     "data": {
      "text/plain": [
       "2"
      ]
     },
     "execution_count": 169,
     "metadata": {},
     "output_type": "execute_result"
    }
   ],
   "source": [
    "ob1= Solution()\n",
    "ob1.minSubArrayLen(s, nums)"
   ]
  },
  {
   "cell_type": "markdown",
   "metadata": {},
   "source": [
    "follow up: another solution of which the time complexity is O(n log n)\n",
    "approach: binary search    "
   ]
  },
  {
   "cell_type": "code",
   "execution_count": 179,
   "metadata": {},
   "outputs": [],
   "source": [
    "class Solution(object):\n",
    "    def minSubArrayLen(self, s, nums):\n",
    "        \"\"\"\n",
    "        :type s: int\n",
    "        :type nums: List[int]\n",
    "        :rtype: int\n",
    "        \"\"\"\n",
    "        if sum(nums) < s:\n",
    "            return 0\n",
    "        n = len(nums)\n",
    "        ans = n\n",
    "        # build prefix sums array\n",
    "        prefix = [0 for i in range(n+1)]\n",
    "        for i in range(1, n+1):\n",
    "            prefix[i] = prefix[i-1]+nums[i-1]\n",
    "        # use binary search to find prefix[i]+s\n",
    "        for i in range(n):\n",
    "            l = i + 1\n",
    "            r = n\n",
    "            target = prefix[i] + s\n",
    "            \n",
    "            while l <= r:\n",
    "                m = l + (r-l)//2\n",
    "                \n",
    "                if prefix[m] < target:\n",
    "                    l = m + 1\n",
    "                else:\n",
    "                    r = m - 1\n",
    "            if l > n:\n",
    "                break\n",
    "            if l - i -1 < ans:\n",
    "                ans = l - i\n",
    "        return 0 if ans > n else ans"
   ]
  },
  {
   "cell_type": "code",
   "execution_count": 180,
   "metadata": {},
   "outputs": [
    {
     "data": {
      "text/plain": [
       "2"
      ]
     },
     "execution_count": 180,
     "metadata": {},
     "output_type": "execute_result"
    }
   ],
   "source": [
    "s = 7\n",
    "nums = [2,3,1,2,4,3]\n",
    "ob1= Solution()\n",
    "ob1.minSubArrayLen(s, nums)"
   ]
  },
  {
   "cell_type": "markdown",
   "metadata": {},
   "source": [
    "# Rotate Array\n",
    "Given an array, rotate the array to the right by k steps, where k is non-negative."
   ]
  },
  {
   "cell_type": "markdown",
   "metadata": {},
   "source": [
    "Approach1：Time complecity O(n) Space complecity O(n)"
   ]
  },
  {
   "cell_type": "code",
   "execution_count": 196,
   "metadata": {},
   "outputs": [],
   "source": [
    "class Solution(object):\n",
    "    def rotate(self, nums, k):\n",
    "        \"\"\"\n",
    "        :type nums: List[int]\n",
    "        :type k: int\n",
    "        :rtype: None Do not return anything, modify nums in-place instead.\n",
    "        \"\"\"\n",
    "        #slice the original array into two subarrays\n",
    "        k = k % len(nums)  # x % m returns a normal remainder modulus, but only if m < x  \n",
    "        nums[:k], nums[k:] = nums[len(nums)-k:], nums[:len(nums)-k]"
   ]
  },
  {
   "cell_type": "code",
   "execution_count": 198,
   "metadata": {},
   "outputs": [
    {
     "data": {
      "text/plain": [
       "[5, 6, 7, 1, 2, 3, 4]"
      ]
     },
     "execution_count": 198,
     "metadata": {},
     "output_type": "execute_result"
    }
   ],
   "source": [
    "k = 3\n",
    "nums = [1,2,3,4,5,6,7]\n",
    "ob1= Solution()\n",
    "ob1.rotate(nums, k)\n",
    "nums"
   ]
  },
  {
   "cell_type": "markdown",
   "metadata": {},
   "source": [
    "Approach2：Time complecity O(n) Space complecity O(n)"
   ]
  },
  {
   "cell_type": "code",
   "execution_count": 200,
   "metadata": {},
   "outputs": [],
   "source": [
    "class Solution(object):\n",
    "    def rotate(self, nums, k):\n",
    "        \"\"\"\n",
    "        :type nums: List[int]\n",
    "        :type k: int\n",
    "        :rtype: void Do not return anything, modify nums in-place instead.\n",
    "        \"\"\"\n",
    "        # create a copy of the original array\n",
    "        old_nums = nums[:]\n",
    "        for i in xrange(len(nums)):\n",
    "            nums[(i + k) % len(nums)] = old_nums[i]"
   ]
  },
  {
   "cell_type": "markdown",
   "metadata": {},
   "source": [
    "Approach3：Time complecity O(n) Space complecity O(1)"
   ]
  },
  {
   "cell_type": "code",
   "execution_count": 201,
   "metadata": {},
   "outputs": [],
   "source": [
    "class Solution(object):\n",
    "    def rotate(self, nums, k):\n",
    "        \"\"\"\n",
    "        :type nums: List[int]\n",
    "        :type k: int\n",
    "        :rtype: void Do not return anything, modify nums in-place instead.\n",
    "        \"\"\"\n",
    "        k = k % len(nums)\n",
    "        start = 0\n",
    "        n = len(nums)\n",
    "        while k % n != 0 and n > 0:\n",
    "            for i in xrange(k):\n",
    "                nums[start + i], nums[len(nums) - k + i] = nums[len(nums) - k + i], nums[start + i]\n",
    "            start, n = start + k, n - k\n",
    "            k = k % n"
   ]
  },
  {
   "cell_type": "markdown",
   "metadata": {},
   "source": [
    "# Pascal's Triangle II\n",
    "Given an integer rowIndex, return the rowIndexth row of the Pascal's triangle.\n",
    "\n",
    "Notice that the row index starts from 0."
   ]
  },
  {
   "cell_type": "code",
   "execution_count": null,
   "metadata": {},
   "outputs": [],
   "source": [
    "class Solution(object):\n",
    "    def getRow(self, rowIndex):\n",
    "        \"\"\"\n",
    "        :type rowIndex: int\n",
    "        :rtype: List[int]\n",
    "        \"\"\"\n",
    "        res = [1] * (rowIndex+1)\n",
    "        for i in range(1, rowIndex/2+1):\n",
    "            # C(n, m) = C(n, m-1) * (n-m+1) / m\n",
    "            res[i] = res[rowIndex-i] = res[i-1] * (rowIndex-i+1) / i\n",
    "        return res"
   ]
  },
  {
   "cell_type": "code",
   "execution_count": 202,
   "metadata": {},
   "outputs": [],
   "source": [
    "# solution2: ith row = i-1th row + rotate (i-1)th row one step\n",
    "#    1 3 3 1 0 \n",
    "# +  0 1 3 3 1\n",
    "# =  1 4 6 4 1 \n",
    "class Solution(object):\n",
    "    def getRow(self, rowIndex):\n",
    "        \"\"\"\n",
    "        :type rowIndex: int\n",
    "        :rtype: List[int]\n",
    "        \"\"\"\n",
    "        res = [1]+[0]*rowIndex\n",
    "        for i in range(rowIndex):\n",
    "            for j in range(i+1,0,-1):\n",
    "                res[j]=res[j]+res[j-1]\n",
    "        return res"
   ]
  },
  {
   "cell_type": "code",
   "execution_count": 203,
   "metadata": {},
   "outputs": [
    {
     "data": {
      "text/plain": [
       "[1, 1]"
      ]
     },
     "execution_count": 203,
     "metadata": {},
     "output_type": "execute_result"
    }
   ],
   "source": [
    "rowIndex = 1\n",
    "ob1= Solution()\n",
    "ob1.getRow(rowIndex)"
   ]
  },
  {
   "cell_type": "markdown",
   "metadata": {},
   "source": [
    "# Reverse Words in a String\n",
    "Given an input string, reverse the string word by word.\n",
    "\n",
    "Note:\n",
    "A word is defined as a sequence of non-space characters.\n",
    "Input string may contain leading or trailing spaces. However, your reversed string should not contain leading or trailing spaces.\n",
    "You need to reduce multiple spaces between two words to a single space in the reversed string.\n"
   ]
  },
  {
   "cell_type": "code",
   "execution_count": 226,
   "metadata": {},
   "outputs": [],
   "source": [
    "class Solution(object):\n",
    "    def reverseWords(self, s):\n",
    "        \"\"\"\n",
    "        :type s: str\n",
    "        :rtype: str\n",
    "        \"\"\"\n",
    "        words = s.split()# split() multiple consecutive spaces as separators;split('') each space as separator\n",
    "        rs = ' '.join(reversed(words))\n",
    "        return rs"
   ]
  },
  {
   "cell_type": "code",
   "execution_count": 227,
   "metadata": {},
   "outputs": [],
   "source": [
    "s= \"  hello world!  \""
   ]
  },
  {
   "cell_type": "code",
   "execution_count": 228,
   "metadata": {},
   "outputs": [
    {
     "data": {
      "text/plain": [
       "'world! hello'"
      ]
     },
     "execution_count": 228,
     "metadata": {},
     "output_type": "execute_result"
    }
   ],
   "source": [
    "ob1= Solution()\n",
    "ob1.reverseWords(s)"
   ]
  },
  {
   "cell_type": "markdown",
   "metadata": {},
   "source": [
    "# Reverse Words in a String III\n",
    "Given a string, you need to reverse the order of characters in each word within a sentence while still preserving whitespace and initial word order."
   ]
  },
  {
   "cell_type": "code",
   "execution_count": 252,
   "metadata": {},
   "outputs": [],
   "source": [
    "class Solution(object):\n",
    "    def reverseWords(self, s):\n",
    "        \"\"\"\n",
    "        :type s: str\n",
    "        :rtype: str\n",
    "        \"\"\"\n",
    "        ss = s[::-1]\n",
    "        words = ss.split()\n",
    "        rs = ' '.join(reversed(words))\n",
    "        return rs"
   ]
  },
  {
   "cell_type": "code",
   "execution_count": 256,
   "metadata": {},
   "outputs": [],
   "source": [
    "s= \"Let's take LeetCode contest\"\n",
    "#s[::-1]"
   ]
  },
  {
   "cell_type": "code",
   "execution_count": 254,
   "metadata": {},
   "outputs": [
    {
     "data": {
      "text/plain": [
       "\"s'teL ekat edoCteeL tsetnoc\""
      ]
     },
     "execution_count": 254,
     "metadata": {},
     "output_type": "execute_result"
    }
   ],
   "source": [
    "ob1= Solution()\n",
    "ob1.reverseWords(s)"
   ]
  },
  {
   "cell_type": "markdown",
   "metadata": {},
   "source": [
    "# Remove Duplicates from Sorted Array\n",
    "Given a sorted array nums, remove the duplicates in-place such that each element appear only once and return the new length.\n",
    "\n",
    "Do not allocate extra space for another array, you must do this by modifying the input array in-place with O(1) extra memory."
   ]
  },
  {
   "cell_type": "code",
   "execution_count": 262,
   "metadata": {},
   "outputs": [],
   "source": [
    "class Solution(object):\n",
    "    def removeDuplicates(self, nums):\n",
    "        \"\"\"\n",
    "        :type nums: List[int]\n",
    "        :rtype: int\n",
    "        \"\"\"\n",
    "        n = len(nums)\n",
    "        if n < 2:\n",
    "            return n\n",
    "        count = 0\n",
    "        for i in range(1,n):\n",
    "            if nums[i]==nums[i-1]:\n",
    "                count += 1\n",
    "            else:\n",
    "                nums[i-count]=nums[i]\n",
    "        return n-count"
   ]
  },
  {
   "cell_type": "code",
   "execution_count": 263,
   "metadata": {},
   "outputs": [
    {
     "data": {
      "text/plain": [
       "5"
      ]
     },
     "execution_count": 263,
     "metadata": {},
     "output_type": "execute_result"
    }
   ],
   "source": [
    "nums = [0,0,1,1,1,2,2,3,3,4]\n",
    "ob1= Solution()\n",
    "ob1.removeDuplicates(nums)"
   ]
  },
  {
   "cell_type": "markdown",
   "metadata": {},
   "source": [
    "# Move Zeroes\n",
    "Given an array nums, write a function to move all 0's to the end of it while maintaining the relative order of the non-zero elements."
   ]
  },
  {
   "cell_type": "code",
   "execution_count": 269,
   "metadata": {},
   "outputs": [],
   "source": [
    "class Solution(object):\n",
    "    def moveZeroes(self, nums):\n",
    "        \"\"\"\n",
    "        :type nums: List[int]\n",
    "        :rtype: None Do not return anything, modify nums in-place instead.\n",
    "        \"\"\"\n",
    "        n = len(nums)\n",
    "        if n < 2:\n",
    "            return nums\n",
    "        i = 0\n",
    "        for item in nums:\n",
    "            if item != 0:\n",
    "                nums[i]= item\n",
    "                i+=1 \n",
    "        for j in range(i, len(nums)):\n",
    "            nums[j] = 0\n",
    "        return nums"
   ]
  },
  {
   "cell_type": "code",
   "execution_count": 270,
   "metadata": {},
   "outputs": [
    {
     "data": {
      "text/plain": [
       "[1, 3, 12, 0, 0]"
      ]
     },
     "execution_count": 270,
     "metadata": {},
     "output_type": "execute_result"
    }
   ],
   "source": [
    "nums = [0,1,0,3,12]\n",
    "ob1= Solution()\n",
    "ob1.moveZeroes(nums)"
   ]
  }
 ],
 "metadata": {
  "kernelspec": {
   "display_name": "Python 3",
   "language": "python",
   "name": "python3"
  },
  "language_info": {
   "codemirror_mode": {
    "name": "ipython",
    "version": 3
   },
   "file_extension": ".py",
   "mimetype": "text/x-python",
   "name": "python",
   "nbconvert_exporter": "python",
   "pygments_lexer": "ipython3",
   "version": "3.7.3"
  }
 },
 "nbformat": 4,
 "nbformat_minor": 4
}
